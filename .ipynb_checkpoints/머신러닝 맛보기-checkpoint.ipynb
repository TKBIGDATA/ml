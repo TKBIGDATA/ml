{
 "cells": [
  {
   "cell_type": "markdown",
   "id": "74739ce2",
   "metadata": {
    "ExecuteTime": {
     "end_time": "2022-09-28T01:24:50.695055Z",
     "start_time": "2022-09-28T01:24:50.689106Z"
    },
    "hide_input": false
   },
   "source": [
    "# 제목1"
   ]
  },
  {
   "cell_type": "markdown",
   "id": "2fd53afa",
   "metadata": {},
   "source": [
    "## 소제목1"
   ]
  },
  {
   "cell_type": "markdown",
   "id": "4bed86ac",
   "metadata": {},
   "source": [
    "## 소제목2"
   ]
  },
  {
   "cell_type": "code",
   "execution_count": null,
   "id": "526d4b43",
   "metadata": {},
   "outputs": [],
   "source": []
  }
 ],
 "metadata": {
  "hide_input": false,
  "kernelspec": {
   "display_name": "Python 3 (ipykernel)",
   "language": "python",
   "name": "python3"
  },
  "language_info": {
   "codemirror_mode": {
    "name": "ipython",
    "version": 3
   },
   "file_extension": ".py",
   "mimetype": "text/x-python",
   "name": "python",
   "nbconvert_exporter": "python",
   "pygments_lexer": "ipython3",
   "version": "3.9.7"
  },
  "toc": {
   "base_numbering": 1,
   "nav_menu": {},
   "number_sections": true,
   "sideBar": true,
   "skip_h1_title": false,
   "title_cell": "Table of Contents",
   "title_sidebar": "Contents",
   "toc_cell": false,
   "toc_position": {},
   "toc_section_display": true,
   "toc_window_display": true
  },
  "varInspector": {
   "cols": {
    "lenName": 16,
    "lenType": 16,
    "lenVar": 40
   },
   "kernels_config": {
    "python": {
     "delete_cmd_postfix": "",
     "delete_cmd_prefix": "del ",
     "library": "var_list.py",
     "varRefreshCmd": "print(var_dic_list())"
    },
    "r": {
     "delete_cmd_postfix": ") ",
     "delete_cmd_prefix": "rm(",
     "library": "var_list.r",
     "varRefreshCmd": "cat(var_dic_list()) "
    }
   },
   "types_to_exclude": [
    "module",
    "function",
    "builtin_function_or_method",
    "instance",
    "_Feature"
   ],
   "window_display": false
  }
 },
 "nbformat": 4,
 "nbformat_minor": 5
}
