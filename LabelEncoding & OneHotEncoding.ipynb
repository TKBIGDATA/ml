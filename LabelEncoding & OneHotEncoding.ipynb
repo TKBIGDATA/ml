{
 "cells": [
  {
   "cell_type": "markdown",
   "id": "ac116518",
   "metadata": {},
   "source": [
    "#### sklearn.preprocessing.LabelEncoder\n",
    "* class sklearn.preprocessing.LabelEncoder"
   ]
  },
  {
   "cell_type": "code",
   "execution_count": 1,
   "id": "0d2e7161",
   "metadata": {
    "ExecuteTime": {
     "end_time": "2022-09-30T01:32:50.574486Z",
     "start_time": "2022-09-30T01:32:50.540577Z"
    }
   },
   "outputs": [
    {
     "name": "stdout",
     "output_type": "stream",
     "text": [
      "인코딩 변환값 : [0 3 4 2 2 1 1]\n",
      "인코딩 클래스 :  ['TV' '믹서' '선풍기' '전자렌지' '컴퓨터']\n"
     ]
    }
   ],
   "source": [
    "from sklearn.preprocessing import LabelEncoder\n",
    "items = ['TV','전자렌지','컴퓨터','선풍기','선풍기','믹서','믹서']\n",
    "# LabelEncoder를 객체로 생성한 후, fit과 transform으로 label 인코딩 수행\n",
    "encoder = LabelEncoder()\n",
    "\n",
    "labels = encoder.fit_transform(items)\n",
    "print(f'인코딩 변환값 : {labels}')\n",
    "print('인코딩 클래스 : ', encoder.classes_)"
   ]
  },
  {
   "cell_type": "code",
   "execution_count": 51,
   "id": "6ef34940",
   "metadata": {
    "ExecuteTime": {
     "end_time": "2022-09-30T02:22:49.987847Z",
     "start_time": "2022-09-30T02:22:49.969895Z"
    }
   },
   "outputs": [
    {
     "name": "stdout",
     "output_type": "stream",
     "text": [
      "원 - 핫 인코딩 데이터 :  [[1. 0. 0. 0. 0.]\n",
      " [0. 0. 0. 1. 0.]\n",
      " [0. 0. 0. 0. 1.]\n",
      " [0. 0. 1. 0. 0.]\n",
      " [0. 0. 1. 0. 0.]\n",
      " [0. 1. 0. 0. 0.]\n",
      " [0. 1. 0. 0. 0.]]\n",
      "원 - 핫 인코딩 데이터 차원 :  (7, 5)\n"
     ]
    }
   ],
   "source": [
    "import numpy as np\n",
    "items = ['TV','전자렌지','컴퓨터','선풍기','선풍기','믹서','믹서']\n",
    "items = np.array(items).reshape(-1,1)\n",
    "\n",
    "oh_encoder = OneHotEncoder()\n",
    "oh_encoder.fit(items)\n",
    "oh_labels = oh_encoder.transform(items)\n",
    "print('원 - 핫 인코딩 데이터 : ', oh_labels.toarray())\n",
    "print('원 - 핫 인코딩 데이터 차원 : ', oh_labels.shape)"
   ]
  },
  {
   "cell_type": "code",
   "execution_count": 2,
   "id": "9632edfb",
   "metadata": {
    "ExecuteTime": {
     "end_time": "2022-09-30T01:34:37.088243Z",
     "start_time": "2022-09-30T01:34:37.053341Z"
    }
   },
   "outputs": [
    {
     "data": {
      "text/plain": [
       "array(['믹서', '믹서', '믹서', '선풍기', '전자렌지', '컴퓨터'], dtype='<U4')"
      ]
     },
     "execution_count": 2,
     "metadata": {},
     "output_type": "execute_result"
    }
   ],
   "source": [
    "encoder.inverse_transform([1,1,1,2,3,4,])"
   ]
  },
  {
   "cell_type": "markdown",
   "id": "22380aa7",
   "metadata": {},
   "source": [
    "#### sklearn.preprocessing.OneHotEncoder\n",
    "* class sklearn.preprocessing.OneHotEncoder(*, categories='auto', drop=None, sparse=True, dtype=<class 'numpy.float64'>, handle_unknown='error', min_frequency=None, max_categories=None)"
   ]
  },
  {
   "cell_type": "code",
   "execution_count": 31,
   "id": "45308f8d",
   "metadata": {
    "ExecuteTime": {
     "end_time": "2022-09-30T02:10:25.593147Z",
     "start_time": "2022-09-30T02:10:25.570208Z"
    }
   },
   "outputs": [
    {
     "name": "stdout",
     "output_type": "stream",
     "text": [
      "원 - 핫 인코딩 데이터 :  [[1. 0. 0. 0. 0. 1. 0. 0. 0. 0.]\n",
      " [0. 0. 0. 1. 0. 0. 1. 0. 0. 0.]\n",
      " [0. 0. 0. 0. 1. 0. 0. 1. 0. 0.]\n",
      " [0. 0. 1. 0. 0. 0. 0. 0. 1. 0.]\n",
      " [0. 0. 1. 0. 0. 0. 0. 0. 1. 0.]\n",
      " [0. 1. 0. 0. 0. 0. 0. 0. 0. 1.]\n",
      " [0. 1. 0. 0. 0. 0. 0. 0. 0. 1.]]\n",
      "원 - 핫 인코딩 데이터 차원 :  (7, 10)\n"
     ]
    }
   ],
   "source": [
    "from sklearn.preprocessing import LabelEncoder , OneHotEncoder\n",
    "import numpy as np\n",
    "\n",
    "# items = [1,2,3,4,4,5,5]\n",
    "# items = ['TV','전자렌지','컴퓨터','선풍기','선풍기','믹서','믹서']\n",
    "items = [['TV' , 1],['전자렌지' , 2],['컴퓨터',3],['선풍기',4],['선풍기', 4],['믹서',5],['믹서',5]]\n",
    "items_1 = [['TV' , 1],['전자렌지' , 2],['컴퓨터',3],['선풍기', 4],['믹서',5]]\n",
    "# items = np.array(items).reshape(-1,1)\n",
    "oh_encoder = OneHotEncoder()\n",
    "oh_encoder.fit(items_1)\n",
    "oh_labels = oh_encoder.transform(items)\n",
    "print('원 - 핫 인코딩 데이터 : ', oh_labels.toarray())\n",
    "print('원 - 핫 인코딩 데이터 차원 : ', oh_labels.shape)\n"
   ]
  },
  {
   "cell_type": "code",
   "execution_count": 23,
   "id": "fbe18604",
   "metadata": {
    "ExecuteTime": {
     "end_time": "2022-09-30T02:06:55.122440Z",
     "start_time": "2022-09-30T02:06:55.094514Z"
    }
   },
   "outputs": [
    {
     "name": "stdout",
     "output_type": "stream",
     "text": [
      "원 - 핫 인코딩 데이터 :  [[1. 0. 0. 0. 0.]\n",
      " [0. 0. 0. 1. 0.]\n",
      " [0. 0. 0. 0. 1.]\n",
      " [0. 0. 1. 0. 0.]\n",
      " [0. 0. 1. 0. 0.]\n",
      " [0. 1. 0. 0. 0.]\n",
      " [0. 1. 0. 0. 0.]]\n",
      "원 - 핫 인코딩 데이터 차원 :  (7, 5)\n"
     ]
    }
   ],
   "source": [
    "from sklearn.preprocessing import LabelEncoder , OneHotEncoder\n",
    "import numpy as np\n",
    "\n",
    "items = ['TV','전자렌지','컴퓨터','선풍기','선풍기','믹서','믹서']\n",
    "\n",
    "encoder = LabelEncoder()\n",
    "\n",
    "encoder.fit(items)\n",
    "labels = encoder.transform(items)\n",
    "labels = labels.reshape(-1,1)\n",
    "# type(labels)\n",
    "\n",
    "oh_encoder = OneHotEncoder()\n",
    "oh_encoder.fit(labels)\n",
    "oh_labels = oh_encoder.transform(labels)\n",
    "print('원 - 핫 인코딩 데이터 : ', oh_labels.toarray())\n",
    "print('원 - 핫 인코딩 데이터 차원 : ', oh_labels.shape)\n",
    "\n"
   ]
  },
  {
   "cell_type": "code",
   "execution_count": 34,
   "id": "eb35ed0c",
   "metadata": {
    "ExecuteTime": {
     "end_time": "2022-09-30T02:13:09.341257Z",
     "start_time": "2022-09-30T02:13:09.310322Z"
    }
   },
   "outputs": [
    {
     "data": {
      "text/html": [
       "<div>\n",
       "<style scoped>\n",
       "    .dataframe tbody tr th:only-of-type {\n",
       "        vertical-align: middle;\n",
       "    }\n",
       "\n",
       "    .dataframe tbody tr th {\n",
       "        vertical-align: top;\n",
       "    }\n",
       "\n",
       "    .dataframe thead th {\n",
       "        text-align: right;\n",
       "    }\n",
       "</style>\n",
       "<table border=\"1\" class=\"dataframe\">\n",
       "  <thead>\n",
       "    <tr style=\"text-align: right;\">\n",
       "      <th></th>\n",
       "      <th>items</th>\n",
       "    </tr>\n",
       "  </thead>\n",
       "  <tbody>\n",
       "    <tr>\n",
       "      <th>0</th>\n",
       "      <td>TV</td>\n",
       "    </tr>\n",
       "    <tr>\n",
       "      <th>1</th>\n",
       "      <td>전자렌지</td>\n",
       "    </tr>\n",
       "    <tr>\n",
       "      <th>2</th>\n",
       "      <td>컴퓨터</td>\n",
       "    </tr>\n",
       "    <tr>\n",
       "      <th>3</th>\n",
       "      <td>선풍기</td>\n",
       "    </tr>\n",
       "    <tr>\n",
       "      <th>4</th>\n",
       "      <td>선풍기</td>\n",
       "    </tr>\n",
       "    <tr>\n",
       "      <th>5</th>\n",
       "      <td>믹서</td>\n",
       "    </tr>\n",
       "    <tr>\n",
       "      <th>6</th>\n",
       "      <td>믹서</td>\n",
       "    </tr>\n",
       "  </tbody>\n",
       "</table>\n",
       "</div>"
      ],
      "text/plain": [
       "  items\n",
       "0    TV\n",
       "1  전자렌지\n",
       "2   컴퓨터\n",
       "3   선풍기\n",
       "4   선풍기\n",
       "5    믹서\n",
       "6    믹서"
      ]
     },
     "execution_count": 34,
     "metadata": {},
     "output_type": "execute_result"
    }
   ],
   "source": [
    "import pandas as pd\n",
    "\n",
    "df = pd.DataFrame({'items': ['TV','전자렌지','컴퓨터','선풍기','선풍기','믹서','믹서']})\n",
    "\n",
    "df"
   ]
  },
  {
   "cell_type": "code",
   "execution_count": 37,
   "id": "179eca65",
   "metadata": {
    "ExecuteTime": {
     "end_time": "2022-09-30T02:14:22.491111Z",
     "start_time": "2022-09-30T02:14:22.475158Z"
    }
   },
   "outputs": [
    {
     "data": {
      "text/plain": [
       "array([[0],\n",
       "       [3],\n",
       "       [4],\n",
       "       [2],\n",
       "       [2],\n",
       "       [1],\n",
       "       [1]])"
      ]
     },
     "execution_count": 37,
     "metadata": {},
     "output_type": "execute_result"
    }
   ],
   "source": [
    "from sklearn.preprocessing import LabelEncoder , OneHotEncoder\n",
    "import numpy as np\n",
    "\n",
    "encoder = LabelEncoder()\n",
    "\n",
    "encoder.fit(df['items'])\n",
    "labels = encoder.transform(df['items'])\n",
    "labels = labels.reshape(-1,1)\n",
    "labels"
   ]
  },
  {
   "cell_type": "code",
   "execution_count": 38,
   "id": "98abcfc6",
   "metadata": {
    "ExecuteTime": {
     "end_time": "2022-09-30T02:14:31.730787Z",
     "start_time": "2022-09-30T02:14:31.711840Z"
    }
   },
   "outputs": [
    {
     "name": "stdout",
     "output_type": "stream",
     "text": [
      "원 - 핫 인코딩 데이터 :  [[1. 0. 0. 0. 0.]\n",
      " [0. 0. 0. 1. 0.]\n",
      " [0. 0. 0. 0. 1.]\n",
      " [0. 0. 1. 0. 0.]\n",
      " [0. 0. 1. 0. 0.]\n",
      " [0. 1. 0. 0. 0.]\n",
      " [0. 1. 0. 0. 0.]]\n",
      "원 - 핫 인코딩 데이터 차원 :  (7, 5)\n"
     ]
    }
   ],
   "source": [
    "oh_encoder = OneHotEncoder()\n",
    "oh_encoder.fit(labels)\n",
    "oh_labels = oh_encoder.transform(labels)\n",
    "print('원 - 핫 인코딩 데이터 : ', oh_labels.toarray())\n",
    "print('원 - 핫 인코딩 데이터 차원 : ', oh_labels.shape)"
   ]
  },
  {
   "cell_type": "code",
   "execution_count": 50,
   "id": "4d6c6a2b",
   "metadata": {
    "ExecuteTime": {
     "end_time": "2022-09-30T02:18:51.067758Z",
     "start_time": "2022-09-30T02:18:51.023875Z"
    }
   },
   "outputs": [
    {
     "data": {
      "text/html": [
       "<div>\n",
       "<style scoped>\n",
       "    .dataframe tbody tr th:only-of-type {\n",
       "        vertical-align: middle;\n",
       "    }\n",
       "\n",
       "    .dataframe tbody tr th {\n",
       "        vertical-align: top;\n",
       "    }\n",
       "\n",
       "    .dataframe thead th {\n",
       "        text-align: right;\n",
       "    }\n",
       "</style>\n",
       "<table border=\"1\" class=\"dataframe\">\n",
       "  <thead>\n",
       "    <tr style=\"text-align: right;\">\n",
       "      <th></th>\n",
       "      <th>TV</th>\n",
       "      <th>믹서</th>\n",
       "      <th>선풍기</th>\n",
       "      <th>전자렌지</th>\n",
       "      <th>컴퓨터</th>\n",
       "    </tr>\n",
       "  </thead>\n",
       "  <tbody>\n",
       "    <tr>\n",
       "      <th>0</th>\n",
       "      <td>1</td>\n",
       "      <td>0</td>\n",
       "      <td>0</td>\n",
       "      <td>0</td>\n",
       "      <td>0</td>\n",
       "    </tr>\n",
       "    <tr>\n",
       "      <th>1</th>\n",
       "      <td>0</td>\n",
       "      <td>0</td>\n",
       "      <td>0</td>\n",
       "      <td>1</td>\n",
       "      <td>0</td>\n",
       "    </tr>\n",
       "    <tr>\n",
       "      <th>2</th>\n",
       "      <td>0</td>\n",
       "      <td>0</td>\n",
       "      <td>0</td>\n",
       "      <td>0</td>\n",
       "      <td>1</td>\n",
       "    </tr>\n",
       "    <tr>\n",
       "      <th>3</th>\n",
       "      <td>0</td>\n",
       "      <td>0</td>\n",
       "      <td>1</td>\n",
       "      <td>0</td>\n",
       "      <td>0</td>\n",
       "    </tr>\n",
       "    <tr>\n",
       "      <th>4</th>\n",
       "      <td>0</td>\n",
       "      <td>0</td>\n",
       "      <td>1</td>\n",
       "      <td>0</td>\n",
       "      <td>0</td>\n",
       "    </tr>\n",
       "    <tr>\n",
       "      <th>5</th>\n",
       "      <td>0</td>\n",
       "      <td>1</td>\n",
       "      <td>0</td>\n",
       "      <td>0</td>\n",
       "      <td>0</td>\n",
       "    </tr>\n",
       "    <tr>\n",
       "      <th>6</th>\n",
       "      <td>0</td>\n",
       "      <td>1</td>\n",
       "      <td>0</td>\n",
       "      <td>0</td>\n",
       "      <td>0</td>\n",
       "    </tr>\n",
       "  </tbody>\n",
       "</table>\n",
       "</div>"
      ],
      "text/plain": [
       "   TV  믹서  선풍기  전자렌지  컴퓨터\n",
       "0   1   0    0     0    0\n",
       "1   0   0    0     1    0\n",
       "2   0   0    0     0    1\n",
       "3   0   0    1     0    0\n",
       "4   0   0    1     0    0\n",
       "5   0   1    0     0    0\n",
       "6   0   1    0     0    0"
      ]
     },
     "execution_count": 50,
     "metadata": {},
     "output_type": "execute_result"
    }
   ],
   "source": [
    "import pandas as pd\n",
    "\n",
    "df = pd.DataFrame({'items': ['TV','전자렌지','컴퓨터','선풍기','선풍기','믹서','믹서']})\n",
    "\n",
    "pd.get_dummies(df['items'])"
   ]
  },
  {
   "cell_type": "code",
   "execution_count": null,
   "id": "3cfeb402",
   "metadata": {},
   "outputs": [],
   "source": []
  }
 ],
 "metadata": {
  "hide_input": false,
  "kernelspec": {
   "display_name": "Python 3 (ipykernel)",
   "language": "python",
   "name": "python3"
  },
  "language_info": {
   "codemirror_mode": {
    "name": "ipython",
    "version": 3
   },
   "file_extension": ".py",
   "mimetype": "text/x-python",
   "name": "python",
   "nbconvert_exporter": "python",
   "pygments_lexer": "ipython3",
   "version": "3.9.7"
  },
  "varInspector": {
   "cols": {
    "lenName": 16,
    "lenType": 16,
    "lenVar": 40
   },
   "kernels_config": {
    "python": {
     "delete_cmd_postfix": "",
     "delete_cmd_prefix": "del ",
     "library": "var_list.py",
     "varRefreshCmd": "print(var_dic_list())"
    },
    "r": {
     "delete_cmd_postfix": ") ",
     "delete_cmd_prefix": "rm(",
     "library": "var_list.r",
     "varRefreshCmd": "cat(var_dic_list()) "
    }
   },
   "types_to_exclude": [
    "module",
    "function",
    "builtin_function_or_method",
    "instance",
    "_Feature"
   ],
   "window_display": false
  }
 },
 "nbformat": 4,
 "nbformat_minor": 5
}
